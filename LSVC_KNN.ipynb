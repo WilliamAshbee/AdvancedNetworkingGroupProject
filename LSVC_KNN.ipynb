{
 "cells": [
  {
   "cell_type": "code",
   "execution_count": 5,
   "metadata": {},
   "outputs": [],
   "source": [
    "import os, glob\n",
    "import numpy as np\n",
    "from sklearn.svm import LinearSVC\n",
    "import pandas as pd\n",
    "import seaborn as sns\n",
    "from sklearn.metrics import confusion_matrix\n",
    "from sklearn.neighbors import KNeighborsClassifier\n",
    "from sklearn.model_selection import train_test_split\n",
    "from sklearn.metrics import accuracy_score, precision_score, recall_score\n",
    "from sklearn.utils import shuffle"
   ]
  },
  {
   "cell_type": "code",
   "execution_count": 6,
   "metadata": {},
   "outputs": [],
   "source": [
    "def knn_classification(X_train, X_test, y_train, y_test ):\n",
    "#    X_train, X_test, y_train, y_test = train_test_split(X, y, test_size=0.25, random_state=1)\n",
    "\n",
    "    knn = KNeighborsClassifier(n_neighbors=5, metric='euclidean')\n",
    "    knn.fit(X_train, y_train)\n",
    "    y_pred = knn.predict(X_test)\n",
    "\n",
    "    print(confusion_matrix(y_test, y_pred))\n",
    "    print(\"accuracy:\", accuracy_score(y_test, y_pred))\n",
    "    print(\"precision: \", precision_score(y_test, y_pred, pos_label=1, average='micro'))\n",
    "    print(\"recall: \", recall_score(y_test, y_pred, pos_label=1, average='micro'))"
   ]
  },
  {
   "cell_type": "code",
   "execution_count": 7,
   "metadata": {},
   "outputs": [],
   "source": [
    "def LSVC_(data, label, n_features):\n",
    "    \"\"\"returns the features selected based on linearSVC,\n",
    "    data. label should be numpy array\"\"\"\n",
    "    lsvc = LinearSVC(C=1, penalty=\"l1\", dual=False).fit(data, label)\n",
    "    coef = np.squeeze(np.sum(np.square(np.array(lsvc.coef_)), axis=0))\n",
    "    coefidx = np.argsort(coef)\n",
    "    fidx = coefidx[-n_features:]\n",
    "    return fidx"
   ]
  },
  {
   "cell_type": "code",
   "execution_count": 8,
   "metadata": {},
   "outputs": [],
   "source": [
    "path = '/Users/fatemeh/Net_project/02-PreprocessedDatasets/' + '*.csv'   \n",
    "files = glob.glob(path)\n",
    "data = []\n",
    "for file in files:\n",
    "    data.append(pd.read_csv(file))\n",
    "data = pd.concat(data)"
   ]
  },
  {
   "cell_type": "code",
   "execution_count": 9,
   "metadata": {},
   "outputs": [],
   "source": [
    "columns_name = data.columns[0].split(\"\\t\")\n",
    "data.columns = ['Col']\n",
    "    \n",
    "data = data.Col.apply(lambda x: pd.Series(str(x).split(\"\\t\")))\n",
    "data = data.set_index(data.columns[0])\n",
    "data.columns = columns_name[1:]\n",
    "data = data.astype('int32')\n",
    "#take the labels and remove it from dataset\n",
    "label = data['wbcqi'].to_numpy()\n",
    "data = data.drop(['wbcqi'], axis=1)"
   ]
  },
  {
   "cell_type": "code",
   "execution_count": 10,
   "metadata": {},
   "outputs": [
    {
     "name": "stderr",
     "output_type": "stream",
     "text": [
      "/Users/fmohebbi1/opt/anaconda3/lib/python3.7/site-packages/sklearn/svm/base.py:929: ConvergenceWarning: Liblinear failed to converge, increase the number of iterations.\n",
      "  \"the number of iterations.\", ConvergenceWarning)\n"
     ]
    },
    {
     "name": "stdout",
     "output_type": "stream",
     "text": [
      "[[   5    3    0    0    0    0    0    0    0    0    0    0    0    0]\n",
      " [   0   97    0    0    0    0    0    0    0    0    0    0    0    0]\n",
      " [   0    1   39    6    0    0    0    0    0    0    0    0    0    0]\n",
      " [   0    0    0  151    3    0    0    0    0    0    0    0    0    0]\n",
      " [   0    0    0    0  302    0    0    0    0    0    0    0    0    0]\n",
      " [   0    0    0    0    0  498    6    0    0    0    0    0    0    0]\n",
      " [   0    0    1    0    0    0  859    1    0    0    0    0    0    0]\n",
      " [   0    0    0    0    0    0    3  483    1    0    0    0    0    0]\n",
      " [   0    0    0    0    0    0    0    2  219    1    0    0    1    0]\n",
      " [   0    0    0    0    0    0    0    0    4  119    0    0    0    0]\n",
      " [   0    0    0    0    0    0    0    0    3    0  216    0    0    0]\n",
      " [   0    0    0    0    0    0    0    0    0    0    0  164    0    1]\n",
      " [   0    0    0    0    0    0    0    0    0    0    0    0   46    2]\n",
      " [   0    0    0    0    0    0    0    0    0    0    0    0    0 3695]]\n",
      "accuracy: 0.9943739180611656\n",
      "precision:  0.9943739180611656\n",
      "recall:  0.9943739180611656\n"
     ]
    }
   ],
   "source": [
    "data, label = shuffle(data, label, random_state=0)\n",
    "X_train, X_test, y_train, y_test = train_test_split(data, label, test_size=0.25, random_state=1)\n",
    "selected_indx = LSVC_(X_train, y_train, 10)\n",
    "X_train = X_train[X_train.columns[list(selected_indx)]]\n",
    "X_test = X_test[X_test.columns[list(selected_indx)]]\n",
    "knn_classification(X_train, X_test, y_train, y_test) "
   ]
  },
  {
   "cell_type": "code",
   "execution_count": null,
   "metadata": {},
   "outputs": [],
   "source": []
  }
 ],
 "metadata": {
  "kernelspec": {
   "display_name": "Python 3",
   "language": "python",
   "name": "python3"
  },
  "language_info": {
   "codemirror_mode": {
    "name": "ipython",
    "version": 3
   },
   "file_extension": ".py",
   "mimetype": "text/x-python",
   "name": "python",
   "nbconvert_exporter": "python",
   "pygments_lexer": "ipython3",
   "version": "3.7.4"
  }
 },
 "nbformat": 4,
 "nbformat_minor": 2
}
