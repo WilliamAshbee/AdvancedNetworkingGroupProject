{
 "cells": [
  {
   "cell_type": "code",
   "execution_count": 10,
   "metadata": {},
   "outputs": [],
   "source": [
    "import os, glob, sys\n",
    "import numpy as np\n",
    "from sklearn.svm import LinearSVC, SVC\n",
    "import pandas as pd\n",
    "import seaborn as sns\n",
    "import matplotlib.pyplot as plt\n",
    "from sklearn.manifold import TSNE\n",
    "from sklearn.linear_model import LogisticRegression\n",
    "from sklearn.metrics import confusion_matrix\n",
    "from sklearn.neighbors import KNeighborsClassifier\n",
    "from sklearn.model_selection import train_test_split, KFold\n",
    "from sklearn.metrics import accuracy_score, precision_score, recall_score, mean_squared_error\n",
    "from sklearn.utils import shuffle\n",
    "from sklearn.decomposition import KernelPCA\n",
    "from sklearn.ensemble import RandomForestClassifier\n",
    "from sklearn.cluster import KMeans\n",
    "from sklearn.model_selection import cross_val_predict"
   ]
  },
  {
   "cell_type": "code",
   "execution_count": 11,
   "metadata": {},
   "outputs": [],
   "source": [
    "def mean_absolute_percentage_error(y_true, y_pred): \n",
    "    y_true, y_pred = np.array(y_true) + 1, np.array(y_pred) + 1\n",
    "    return np.mean(np.abs((y_true - y_pred) / y_true)) * 100\n",
    "\n",
    "\n",
    "def rmse(targets, predictions):\n",
    "    return np.sqrt(((predictions - targets) ** 2).mean())"
   ]
  },
  {
   "cell_type": "code",
   "execution_count": 12,
   "metadata": {},
   "outputs": [],
   "source": [
    "def knn_classification(X_train, X_test, y_train, y_test ):\n",
    "#    X_train, X_test, y_train, y_test = train_test_split(X, y, test_size=0.25, random_state=1)\n",
    "    knn = KNeighborsClassifier(n_neighbors=1)\n",
    "    knn.fit(X_train, y_train)\n",
    "    y_pred = knn.predict(X_test)\n",
    "    print(confusion_matrix(y_test, y_pred))\n",
    "    print(\"accuracy:\", accuracy_score(y_test, y_pred))\n",
    "    print(\"precision: \", precision_score(y_test, y_pred, pos_label=1, average='micro'))\n",
    "    print(\"recall: \", recall_score(y_test, y_pred, pos_label=1, average='micro'))\n",
    "    print(\"root-mean-square error:\", rmse(y_test, y_pred))\n",
    "    print(\"mean_absolute_percentage_error:\", mean_absolute_percentage_error(y_test, y_pred))\n",
    "    return pd.DataFrame(confusion_matrix(y_test, y_pred))"
   ]
  },
  {
   "cell_type": "code",
   "execution_count": 13,
   "metadata": {},
   "outputs": [],
   "source": [
    "def svm(X_train, X_test, y_train, y_test):\n",
    "    svclassifier = SVC(kernel='rbf')\n",
    "    svclassifier.fit(X_train, y_train)\n",
    "    y_pred = svclassifier.predict(X_test)\n",
    "    print(confusion_matrix(y_test, y_pred))\n",
    "    print(\"accuracy:\", accuracy_score(y_test, y_pred))\n",
    "    print(\"precision: \", precision_score(y_test, y_pred, pos_label=1, average='micro'))\n",
    "    print(\"recall: \", recall_score(y_test, y_pred, pos_label=1, average='micro'))\n",
    "    print(\"root-mean-square error:\", rmse(y_test, y_pred))\n",
    "    print(\"mean_absolute_percentage_error:\", mean_absolute_percentage_error(y_test, y_pred))\n",
    "    return pd.DataFrame(confusion_matrix(y_test, y_pred))"
   ]
  },
  {
   "cell_type": "code",
   "execution_count": 14,
   "metadata": {},
   "outputs": [],
   "source": [
    "def LSVC_(data, label, n_features):\n",
    "    \"\"\"returns the features selected based on linearSVC,\n",
    "    data. label should be numpy array\"\"\"\n",
    "    lsvc = LinearSVC(C=1, penalty=\"l1\", dual=False).fit(data, label)\n",
    "    coef = np.squeeze(np.sum(np.square(np.array(lsvc.coef_)), axis=0))\n",
    "    coefidx = np.argsort(coef)\n",
    "    fidx = coefidx[-n_features:]\n",
    "    return fidx"
   ]
  },
  {
   "cell_type": "code",
   "execution_count": 15,
   "metadata": {},
   "outputs": [],
   "source": [
    "path = '/Users/fatemeh/Net_project/02-PreprocessedDatasets/data/' + '*.csv'   \n",
    "files = glob.glob(path)\n",
    "data = []\n",
    "for file in files:\n",
    "    data.append(pd.read_csv(file))\n",
    "data = pd.concat(data)"
   ]
  },
  {
   "cell_type": "code",
   "execution_count": 16,
   "metadata": {},
   "outputs": [],
   "source": [
    "columns_name = data.columns[0].split(\"\\t\")\n",
    "data.columns = ['Col']\n",
    "    \n",
    "data = data.Col.apply(lambda x: pd.Series(str(x).split(\"\\t\")))\n",
    "data = data.set_index(data.columns[0])\n",
    "data.columns = columns_name[1:]\n",
    "data = data.astype('int32')\n",
    "#take the labels and remove it from dataset\n",
    "label = data['wbcqi'].to_numpy()\n",
    "data = data.drop(['wbcqi'], axis=1)\n",
    "data = data.drop(['macStats_mcs1Dl'], axis=1)"
   ]
  },
  {
   "cell_type": "code",
   "execution_count": 17,
   "metadata": {},
   "outputs": [],
   "source": [
    "data, label = shuffle(data, label, random_state=0)\n",
    "X_train, X_test, y_train, y_test = train_test_split(data, label, test_size=0.25, random_state=1)\n",
    "#selected_indx = list(LSVC_(X_train, y_train, 15))\n",
    "#features selected exhaustive search\n",
    "selected_indx = [2, 15, 0, 7, 19] #,19, 29, 34, 31, 36, 30,24, 13, 38]\n",
    "selected_cols = data.columns[selected_indx]\n",
    "data = data[selected_cols]"
   ]
  },
  {
   "cell_type": "code",
   "execution_count": 18,
   "metadata": {},
   "outputs": [
    {
     "name": "stdout",
     "output_type": "stream",
     "text": [
      "[[   0    0    0    0    0    0    0    1    2    0    0    0    2    0\n",
      "     2]\n",
      " [   0    0    0    1    0    0    0    0    0    0    0    0    0    0\n",
      "     0]\n",
      " [   1    0  134    6    1    0    0    0    0    0    0    0    0    0\n",
      "     1]\n",
      " [   0    0    4   46   10    0    1    1    0    0    0    0    0    0\n",
      "     0]\n",
      " [   0    0    0   15  135   39    7    1    1    0    0    0    0    0\n",
      "     0]\n",
      " [   0    0    1    3   33  280   55    8    1    0    0    0    0    0\n",
      "     0]\n",
      " [   0    0    0    0    9   67  545   95   18    0    0    0    0    0\n",
      "     0]\n",
      " [   8    0    0    0    1    9   97  843  145   17    5    1    0    0\n",
      "     0]\n",
      " [   0    0    0    0    0    5   24  150  400   81    9    3    2    0\n",
      "     0]\n",
      " [   0    0    0    0    1    1    5   17   74  162   33    6    1    1\n",
      "     0]\n",
      " [   0    0    0    0    0    0    0    1    6   31   91   28   12    2\n",
      "     2]\n",
      " [   0    0    0    0    0    0    0    0    3   12   28  187   54    9\n",
      "    14]\n",
      " [   0    0    0    0    0    0    0    0    0    3    9   42  106   29\n",
      "    39]\n",
      " [   1    0    0    0    0    0    0    0    0    0    3    3   19   21\n",
      "    23]\n",
      " [   9    0    0    1    1    0    0    5    0    1    2    5   38   22\n",
      "  4753]]\n",
      "accuracy: 0.8334776022505951\n",
      "precision:  0.8334776022505951\n",
      "recall:  0.8334776022505951\n",
      "root-mean-square error: 0.8884431965908072\n",
      "mean_absolute_percentage_error: 3.2509167267606998\n",
      "[[   0    0    0    0    0    0    1    0    0    0    0    0    1    3]\n",
      " [   1  122    2    0    2    0    0    0    0    0    0    0    0    0]\n",
      " [   1    4   39   13    2    0    0    0    0    0    0    0    0    1]\n",
      " [   0    1    7  144   32    5    1    1    0    0    0    0    0    1]\n",
      " [   0    0    2   30  269   62    8    6    0    0    0    0    0    0]\n",
      " [   0    0    1   11   64  562   96   13    3    0    0    0    0    0]\n",
      " [   1    0    0    2    8   83  818  139   26    0    0    0    0    1]\n",
      " [   2    0    0    0    1   14  138  397   80   10    0    1    0    0]\n",
      " [   0    0    0    0    0    2   15   61  152   37    8    3    1    2]\n",
      " [   0    0    0    0    0    0    4    9   35   92   29    9    0    1]\n",
      " [   0    0    0    0    0    0    3    6    8   22  184   39    7   11]\n",
      " [   3    0    0    0    0    0    1    1    1    4   38  114   15   39]\n",
      " [   0    0    0    0    0    0    0    0    1    2    3   28   19   18]\n",
      " [   2    0    0    0    0    0    0    0    0    3    6   30   22 4920]]\n",
      "accuracy: 0.847435619995672\n",
      "precision:  0.847435619995672\n",
      "recall:  0.847435619995672\n",
      "root-mean-square error: 0.747281012398294\n",
      "mean_absolute_percentage_error: 2.8330466631159124\n",
      "[[   1    0    0    1    0    1    0    4    0    0    0    0    0    1\n",
      "     5]\n",
      " [   0    0    0    0    0    0    0    0    0    0    0    0    0    0\n",
      "     0]\n",
      " [   0    0  127    2    0    0    0    0    0    0    0    0    0    0\n",
      "     0]\n",
      " [   0    1    0   36   11    5    1    0    0    0    0    0    0    0\n",
      "     0]\n",
      " [   0    0    1   11  147   46    6    4    0    1    0    0    0    0\n",
      "     0]\n",
      " [   0    0    0    0   42  285   71    8    9    1    0    0    0    0\n",
      "     1]\n",
      " [   0    0    0    0    4   64  509   87   25    4    0    0    0    0\n",
      "     0]\n",
      " [   1    0    0    0    4    9   89  875  148   23    2    0    0    0\n",
      "     0]\n",
      " [   3    0    0    0    0    0   20  113  401   62    3    6    0    0\n",
      "     0]\n",
      " [   0    0    0    0    0    0    3   15   74  141   28   12    1    1\n",
      "     1]\n",
      " [   0    0    0    0    0    0    1    1    7   35  100   28    4    2\n",
      "     2]\n",
      " [   1    0    0    0    1    0    0    1    1   11   29  147   33    2\n",
      "     8]\n",
      " [   0    0    0    0    0    0    0    0    0    5   12   36  135   23\n",
      "    32]\n",
      " [   0    0    0    0    0    0    0    0    0    1    0    8   24   20\n",
      "    21]\n",
      " [   3    0    0    0    0    1    0    2    0    1    0   15   44   21\n",
      "  4867]]\n",
      "accuracy: 0.8429993507898723\n",
      "precision:  0.8429993507898723\n",
      "recall:  0.8429993507898723\n",
      "root-mean-square error: 0.8024389353518568\n",
      "mean_absolute_percentage_error: 3.5890472418009747\n"
     ]
    }
   ],
   "source": [
    "confusion_mat = []\n",
    "kf = KFold(n_splits=3, shuffle=False)\n",
    "for train_index, test_index in kf.split(data):\n",
    "    X_train, X_test = data.iloc[train_index], data.iloc[test_index]\n",
    "    y_train, y_test = label[train_index], label[test_index]\n",
    "    confusion_mat.append(knn_classification(X_train, X_test, y_train, y_test))  "
   ]
  },
  {
   "cell_type": "code",
   "execution_count": 19,
   "metadata": {},
   "outputs": [
    {
     "data": {
      "image/png": "[encoded data removed]",
      "text/plain": [
       "<Figure size 720x504 with 2 Axes>"
      ]
     },
     "metadata": {},
     "output_type": "display_data"
    }
   ],
   "source": [
    "confusion_sum = confusion_mat[0].add(confusion_mat[1], fill_value=0).add(confusion_mat[2], fill_value=0)\n",
    "confusion_sum = (confusion_sum/3)\n",
    "sum_ = confusion_sum.sum(axis=1)\n",
    "normalize = confusion_sum.div(sum_.values, axis='index')\n",
    "sns.set(font_scale=0.6)\n",
    "plt.figure(figsize = (10, 7))\n",
    "sns.heatmap(normalize, annot=True, cmap='Blues', annot_kws={\"size\": 5})\n",
    "plt.savefig('confusion_mat_5selected_knn.pdf')\n",
    "plt.show()"
   ]
  },
  {
   "cell_type": "code",
   "execution_count": null,
   "metadata": {},
   "outputs": [],
   "source": []
  }
 ],
 "metadata": {
  "kernelspec": {
   "display_name": "Python 3",
   "language": "python",
   "name": "python3"
  },
  "language_info": {
   "codemirror_mode": {
    "name": "ipython",
    "version": 3
   },
   "file_extension": ".py",
   "mimetype": "text/x-python",
   "name": "python",
   "nbconvert_exporter": "python",
   "pygments_lexer": "ipython3",
   "version": "3.8.3"
  }
 },
 "nbformat": 4,
 "nbformat_minor": 2
}
