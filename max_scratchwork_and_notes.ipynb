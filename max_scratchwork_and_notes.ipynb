{
 "cells": [
  {
   "cell_type": "markdown",
   "metadata": {},
   "source": [
    "# Included in this notebook is some exploratory scratchwork as well as notes on the reference work and data with some ideas"
   ]
  },
  {
   "cell_type": "markdown",
   "metadata": {},
   "source": [
    "I think our best bet for this project is to do the analysis that we can on this data, but for the narrative to be an exploration on the use of data and machine learning in the 5G RAN slicing problem.\n",
    "\n",
    "With that in mind, I think it is easy for us to comment on the state of data-driven 5G RAN slicing, as we know it to be limited and for the data available to be sub-par\n",
    "\n",
    "So, for instance we can demonstrate the lack of (good) publicly available (benchmark) data to motivate research on the topic and use this dataset to demonstrate the shortcomings, make assertions as to what would be useful in the data sense for future work\n",
    "\n",
    "Even though this current paper is leaps and bounds better than the last works we investigate, there are still some potential issues with this approach and maybe all data driven approaches:\n",
    "\n",
    "```\n",
    "\"First, there are policies on both raw and augmented/structured data, which dictate how to share data between stakeholders (i.e., slice owners and NOs) via filters that secure privacy restrictions such as for NOs which do not want to share all/parts of their monitoring information and setup/configuration logs with other NOs or even the slices that they host.\"\n",
    "```\n",
    "\n",
    "Maybe I am wrong. I'm not a security expert, but it seems questionable or at least a problem that needs to be analyzed because data anonymization is itself a difficult problem. So, for a workflow like this, the questions 'how to share data between stakeholders while guaranteeing privacy' is worth looking into (not for us)."
   ]
  },
  {
   "cell_type": "code",
   "execution_count": 12,
   "metadata": {},
   "outputs": [],
   "source": [
    "import os, glob\n",
    "import numpy as np\n",
    "import pandas as pd\n",
    "import matplotlib.pyplot as plt\n",
    "%matplotlib inline\n",
    "import seaborn as sns\n",
    "sns.set()\n",
    "from sklearn.svm import LinearSVC\n",
    "from sklearn.metrics import confusion_matrix\n",
    "from sklearn.neighbors import KNeighborsClassifier\n",
    "from sklearn.model_selection import train_test_split\n",
    "from sklearn.metrics import accuracy_score, precision_score, recall_score, mean_squared_error\n",
    "from sklearn.utils import shuffle"
   ]
  },
  {
   "cell_type": "code",
   "execution_count": 65,
   "metadata": {},
   "outputs": [],
   "source": [
    "from sklearn.ensemble import GradientBoostingRegressor\n",
    "import json"
   ]
  },
  {
   "cell_type": "code",
   "execution_count": 2,
   "metadata": {},
   "outputs": [
    {
     "data": {
      "text/plain": [
       "['stable-middistance.csv',\n",
       " 'stable-shortdistance.csv',\n",
       " 'stable-longdistance.csv',\n",
       " 'moving-away.csv',\n",
       " 'moving-closerfarcloser.csv',\n",
       " 'stable-shortistance2.csv']"
      ]
     },
     "execution_count": 2,
     "metadata": {},
     "output_type": "execute_result"
    }
   ],
   "source": [
    "os.listdir(\"data/02-PreprocessedDatasets/\")"
   ]
  },
  {
   "cell_type": "markdown",
   "metadata": {},
   "source": [
    "Six different files refer to different scenarios"
   ]
  },
  {
   "cell_type": "markdown",
   "metadata": {},
   "source": [
    "Phase 1; Regression model for wbCQI\n",
    "- “predicting” wbCQI (why \"predicting\"?)"
   ]
  },
  {
   "cell_type": "markdown",
   "metadata": {},
   "source": [
    "Phase 2; 5G monitoring & History Data\n",
    "- using elasticmon software\n"
   ]
  },
  {
   "cell_type": "code",
   "execution_count": 3,
   "metadata": {},
   "outputs": [
    {
     "name": "stdout",
     "output_type": "stream",
     "text": [
      "data/02-PreprocessedDatasets/stable-middistance.csv\n",
      "data/02-PreprocessedDatasets/stable-shortdistance.csv\n",
      "data/02-PreprocessedDatasets/stable-longdistance.csv\n",
      "data/02-PreprocessedDatasets/moving-away.csv\n",
      "data/02-PreprocessedDatasets/moving-closerfarcloser.csv\n",
      "data/02-PreprocessedDatasets/stable-shortistance2.csv\n"
     ]
    }
   ],
   "source": [
    "path = 'data/02-PreprocessedDatasets/' + '*.csv'   \n",
    "files = glob.glob(path)\n",
    "data = []\n",
    "for file in files:\n",
    "    print(file)\n",
    "    data.append(pd.read_csv(file, sep='\\t', index_col=0))"
   ]
  },
  {
   "cell_type": "code",
   "execution_count": 4,
   "metadata": {},
   "outputs": [],
   "source": [
    "train_df = pd.concat(data[:-1], ignore_index=True)"
   ]
  },
  {
   "cell_type": "code",
   "execution_count": 5,
   "metadata": {},
   "outputs": [],
   "source": [
    "val_df = data[-1]"
   ]
  },
  {
   "cell_type": "code",
   "execution_count": 6,
   "metadata": {},
   "outputs": [],
   "source": [
    "val_df.reset_index(drop=True, inplace=True)"
   ]
  },
  {
   "cell_type": "code",
   "execution_count": 8,
   "metadata": {},
   "outputs": [],
   "source": [
    "y_train, y_test = train_df['wbcqi'], val_df['wbcqi']"
   ]
  },
  {
   "cell_type": "code",
   "execution_count": 9,
   "metadata": {},
   "outputs": [],
   "source": [
    "X_train, X_test = train_df.drop(columns=['wbcqi']), val_df.drop(columns=['wbcqi'])"
   ]
  },
  {
   "cell_type": "code",
   "execution_count": 27,
   "metadata": {},
   "outputs": [],
   "source": [
    "clf = GradientBoostingRegressor(n_estimators=1000, criterion='mse')"
   ]
  },
  {
   "cell_type": "code",
   "execution_count": 32,
   "metadata": {},
   "outputs": [
    {
     "name": "stderr",
     "output_type": "stream",
     "text": [
      "/Users/maxwellhostetter/anaconda3/envs/slice/lib/python3.7/site-packages/sklearn/utils/validation.py:72: DataConversionWarning: A column-vector y was passed when a 1d array was expected. Please change the shape of y to (n_samples, ), for example using ravel().\n",
      "  return f(**kwargs)\n"
     ]
    },
    {
     "data": {
      "text/plain": [
       "GradientBoostingRegressor(criterion='mse', n_estimators=1000)"
      ]
     },
     "execution_count": 32,
     "metadata": {},
     "output_type": "execute_result"
    }
   ],
   "source": [
    "clf.fit(X_train, y_train.values.reshape(-1,1))"
   ]
  },
  {
   "cell_type": "code",
   "execution_count": 34,
   "metadata": {},
   "outputs": [],
   "source": [
    "preds = clf.predict(X_test)"
   ]
  },
  {
   "cell_type": "code",
   "execution_count": 35,
   "metadata": {},
   "outputs": [
    {
     "data": {
      "text/plain": [
       "0.48518188327060874"
      ]
     },
     "execution_count": 35,
     "metadata": {},
     "output_type": "execute_result"
    }
   ],
   "source": [
    "mean_squared_error(y_test, y_pred, squared=False)"
   ]
  },
  {
   "cell_type": "code",
   "execution_count": 37,
   "metadata": {},
   "outputs": [
    {
     "data": {
      "text/plain": [
       "array([15])"
      ]
     },
     "execution_count": 37,
     "metadata": {},
     "output_type": "execute_result"
    }
   ],
   "source": [
    "np.unique(y_test.values)"
   ]
  },
  {
   "cell_type": "code",
   "execution_count": 41,
   "metadata": {},
   "outputs": [
    {
     "data": {
      "text/plain": [
       "array([15])"
      ]
     },
     "execution_count": 41,
     "metadata": {},
     "output_type": "execute_result"
    }
   ],
   "source": [
    "np.unique(val_df['wbcqi'].values)"
   ]
  },
  {
   "cell_type": "markdown",
   "metadata": {},
   "source": [
    "Ok so shortistdistance2.csv, i have no idea what it is. I thought it was maybe the validation set for the \"shordistance\" movement category\n",
    "\n",
    "Either they did not include the validation set when they posted this data, or they are including samples in both the training and validation sets. obviously that would be a rookie mistake, but the way this paper is written suggests to me they aren't real strong data people\n",
    "\n",
    "``` \n",
    "\"we tried to keep a 90% to 10% ratio between training and validation data set sizes\"\n",
    "```\n",
    "note the word sizes here. there's no language which suggests the data is actually split between these scenarios"
   ]
  },
  {
   "cell_type": "markdown",
   "metadata": {},
   "source": [
    "## Ok one question sort of answered: shortisdistance2.csv is not helpful"
   ]
  },
  {
   "cell_type": "markdown",
   "metadata": {},
   "source": [
    "```\n",
    "Feature exclusion: We excluded MAC statistic metrics like “mcs1Dl”, which are directly calculated based on wbCQI, as the purpose of the envisioned regression model is to predict the dependent wbCQI out of independent metric values.\n",
    "```"
   ]
  },
  {
   "cell_type": "code",
   "execution_count": 67,
   "metadata": {},
   "outputs": [],
   "source": [
    "drop_cols = []\n",
    "for item in train_df.columns.values:\n",
    "    if 'macStats' in item:\n",
    "        drop_cols.append(item)"
   ]
  },
  {
   "cell_type": "code",
   "execution_count": 71,
   "metadata": {},
   "outputs": [],
   "source": [
    "train_df.drop(columns=drop_cols, inplace=True)"
   ]
  },
  {
   "cell_type": "markdown",
   "metadata": {},
   "source": [
    "Ok now we'll see if this changes the results of what Fatemeh did \\\n",
    "   -not an exact copy of what she did. I'm dropping shortisdistance2.csv \\\n",
    "   -reindexing to drop repeat indiices \\\n",
    "   -dropped macStats features "
   ]
  },
  {
   "cell_type": "code",
   "execution_count": 76,
   "metadata": {},
   "outputs": [],
   "source": [
    "def knn_classification(X_train, X_test, y_train, y_test ):\n",
    "#    X_train, X_test, y_train, y_test = train_test_split(X, y, test_size=0.25, random_state=1)\n",
    "\n",
    "    knn = KNeighborsClassifier(n_neighbors=5, metric='euclidean')\n",
    "    knn.fit(X_train, y_train)\n",
    "    y_pred = knn.predict(X_test)\n",
    "\n",
    "    print(confusion_matrix(y_test, y_pred))\n",
    "    print(\"accuracy:\", accuracy_score(y_test, y_pred))\n",
    "    print(\"precision: \", precision_score(y_test, y_pred, pos_label=1, average='micro'))\n",
    "    print(\"recall: \", recall_score(y_test, y_pred, pos_label=1, average='micro'))\n",
    "    print(\"rmse: \", mean_squared_error(y_test, y_pred, squared=False))\n",
    "    return y_pred"
   ]
  },
  {
   "cell_type": "code",
   "execution_count": 73,
   "metadata": {},
   "outputs": [],
   "source": [
    "def LSVC_(data, label, n_features):\n",
    "    \"\"\"returns the features selected based on linearSVC,\n",
    "    data. label should be numpy array\"\"\"\n",
    "    lsvc = LinearSVC(C=1, penalty=\"l1\", dual=False).fit(data, label)\n",
    "    coef = np.squeeze(np.sum(np.square(np.array(lsvc.coef_)), axis=0))\n",
    "    coefidx = np.argsort(coef)\n",
    "    fidx = coefidx[-n_features:]\n",
    "    return fidx"
   ]
  },
  {
   "cell_type": "code",
   "execution_count": 74,
   "metadata": {},
   "outputs": [],
   "source": [
    "data = train_df.drop(columns=['wbcqi'])\n",
    "label = train_df['wbcqi']"
   ]
  },
  {
   "cell_type": "code",
   "execution_count": 77,
   "metadata": {},
   "outputs": [
    {
     "name": "stderr",
     "output_type": "stream",
     "text": [
      "/Users/maxwellhostetter/anaconda3/envs/slice/lib/python3.7/site-packages/sklearn/svm/_base.py:977: ConvergenceWarning: Liblinear failed to converge, increase the number of iterations.\n",
      "  \"the number of iterations.\", ConvergenceWarning)\n"
     ]
    },
    {
     "name": "stdout",
     "output_type": "stream",
     "text": [
      "[[   0    0    0    0    0    0    0    4    0    0    0    0    0    0\n",
      "     2]\n",
      " [   0    0    0    1    0    0    0    0    0    0    0    0    0    0\n",
      "     0]\n",
      " [   0    0   88    2    0    1    3    0    0    0    0    0    0    0\n",
      "     1]\n",
      " [   0    0    4   20    8    2    5    0    2    2    0    0    0    0\n",
      "     0]\n",
      " [   0    0    0    4   62   73   12    2    0    1    0    0    0    0\n",
      "     0]\n",
      " [   0    0    1    2   15  177   72   14    2    0    0    0    0    0\n",
      "     0]\n",
      " [   0    0    0    4    8   87  318   92   22    3    0    1    0    0\n",
      "     0]\n",
      " [   0    0    0    2    2   20  107  594  108   14    0    2    0    0\n",
      "     1]\n",
      " [   0    0    0    1    1    3   23  125  293   31    2    3    0    0\n",
      "     1]\n",
      " [   0    0    0    0    0    0    5   28  109   75    9    8    3    0\n",
      "     4]\n",
      " [   0    0    0    0    0    0    0    3   18   38   35   15    6    0\n",
      "     8]\n",
      " [   0    0    0    4    0    1    0    3    7   19   26   84   38    3\n",
      "    25]\n",
      " [   0    0    0    0    0    2    0    0    1   11   10   45   38    8\n",
      "    45]\n",
      " [   0    0    0    0    0    0    0    0    0    0    0    2   15    4\n",
      "    36]\n",
      " [   0    0    0    0    0    0    0    0    0    4    1   31   41   14\n",
      "  3189]]\n",
      "accuracy: 0.7632264990032204\n",
      "precision:  0.7632264990032204\n",
      "recall:  0.7632264990032204\n",
      "rmse:  0.904757484868401\n"
     ]
    }
   ],
   "source": [
    "data, label = shuffle(data, label, random_state=0)\n",
    "X_train, X_test, y_train, y_test = train_test_split(data, label, test_size=0.25, random_state=1)\n",
    "selected_indx = LSVC_(X_train, y_train, 10)\n",
    "X_train = X_train[X_train.columns[list(selected_indx)]]\n",
    "X_test = X_test[X_test.columns[list(selected_indx)]]\n",
    "y_pred = knn_classification(X_train, X_test, y_train, y_test) "
   ]
  },
  {
   "cell_type": "markdown",
   "metadata": {},
   "source": [
    "## Ok so dropping those columns makes a big difference. "
   ]
  },
  {
   "cell_type": "code",
   "execution_count": 81,
   "metadata": {},
   "outputs": [
    {
     "data": {
      "text/plain": [
       "13296    1\n",
       "518      1\n",
       "21769    1\n",
       "15249    0\n",
       "9404     0\n",
       "        ..\n",
       "22480    1\n",
       "17631    0\n",
       "20972    0\n",
       "25068   -2\n",
       "753      0\n",
       "Name: wbcqi, Length: 6521, dtype: int64"
      ]
     },
     "execution_count": 81,
     "metadata": {},
     "output_type": "execute_result"
    }
   ],
   "source": [
    "y_test - y_pred"
   ]
  },
  {
   "cell_type": "code",
   "execution_count": 83,
   "metadata": {},
   "outputs": [],
   "source": [
    "clf = GradientBoostingRegressor(n_estimators=1000, criterion='mse')\n",
    "data, label = shuffle(data, label, random_state=0)\n",
    "X_train, X_test, y_train, y_test = train_test_split(data,\n",
    "                                                    label,\n",
    "                                                    test_size=0.25,\n",
    "                                                    random_state=1)"
   ]
  },
  {
   "cell_type": "code",
   "execution_count": 84,
   "metadata": {},
   "outputs": [
    {
     "data": {
      "text/plain": [
       "GradientBoostingRegressor(criterion='mse', n_estimators=1000)"
      ]
     },
     "execution_count": 84,
     "metadata": {},
     "output_type": "execute_result"
    }
   ],
   "source": [
    "clf.fit(X_train, y_train)"
   ]
  },
  {
   "cell_type": "code",
   "execution_count": 85,
   "metadata": {},
   "outputs": [],
   "source": [
    "preds = clf.predict(X_test)"
   ]
  },
  {
   "cell_type": "code",
   "execution_count": 87,
   "metadata": {},
   "outputs": [
    {
     "name": "stdout",
     "output_type": "stream",
     "text": [
      "rmse:  5.253882536302076\n",
      "accuracy: 0.29320656341051987\n"
     ]
    }
   ],
   "source": [
    "print(\"rmse: \", mean_squared_error(y_test, y_pred, squared=False))\n",
    "print(\"accuracy:\", accuracy_score(y_test, y_pred))"
   ]
  },
  {
   "cell_type": "markdown",
   "metadata": {},
   "source": [
    "## ok from here I should probably do what they did in the paper and look for anomolous wbcqi values\n",
    "\n",
    "...to be continued"
   ]
  },
  {
   "cell_type": "code",
   "execution_count": 89,
   "metadata": {},
   "outputs": [
    {
     "data": {
      "text/plain": [
       "(399,)"
      ]
     },
     "execution_count": 89,
     "metadata": {},
     "output_type": "execute_result"
    }
   ],
   "source": [
    "label[label == 3].shape"
   ]
  },
  {
   "cell_type": "code",
   "execution_count": null,
   "metadata": {},
   "outputs": [],
   "source": []
  },
  {
   "cell_type": "code",
   "execution_count": null,
   "metadata": {},
   "outputs": [],
   "source": []
  },
  {
   "cell_type": "code",
   "execution_count": null,
   "metadata": {},
   "outputs": [],
   "source": []
  },
  {
   "cell_type": "markdown",
   "metadata": {},
   "source": [
    "## Ideas for paper narrative:\n",
    "\n",
    "A survey on the current state of machine learning based 5G RAN slicing \n",
    "\n",
    "    - Pretty easy to do since we would just have to write up a handful that don't publish      their data as well as include our investigation of these two datasets\n",
    "    \n",
    "Sample off the top of my head abstract\n",
    "\n",
    "\"RAN slicing is a key technology necessary for enabling and delivering 5G service. Most research in this relatively new area is on algorithm development. There is not yet a consensus problem formulation and thus no state-of-the-art for this topic. We investigate the state of machine learning based 5G RAN slicing with the aim of uncovering the needs of research in this area. We run experiments using two publicly available datasets developed for 5G RAN slicing research and conclude with specific calls for future work to fill in the gaps in this research area\""
   ]
  },
  {
   "cell_type": "code",
   "execution_count": null,
   "metadata": {},
   "outputs": [],
   "source": []
  },
  {
   "cell_type": "code",
   "execution_count": null,
   "metadata": {},
   "outputs": [],
   "source": []
  },
  {
   "cell_type": "code",
   "execution_count": null,
   "metadata": {},
   "outputs": [],
   "source": []
  },
  {
   "cell_type": "markdown",
   "metadata": {},
   "source": [
    "## Looking at the raw datasets. I don't think this is useful for us, we can at least trust their preprocessing"
   ]
  },
  {
   "cell_type": "code",
   "execution_count": 45,
   "metadata": {},
   "outputs": [
    {
     "name": "stdout",
     "output_type": "stream",
     "text": [
      "data/01-RawDatasets/movingaway.csv\n",
      "data/01-RawDatasets/stablemiddistance.csv\n",
      "data/01-RawDatasets/movingcloserfarcloser.csv\n",
      "data/01-RawDatasets/stableshortdistance.csv\n",
      "data/01-RawDatasets/stablelongdistance.csv\n"
     ]
    }
   ],
   "source": [
    "path = 'data/01-RawDatasets/' + '*.csv'   \n",
    "files = glob.glob(path)\n",
    "data = []\n",
    "for file in files:\n",
    "    print(file)\n",
    "    data.append(pd.read_csv(file, index_col=0))"
   ]
  },
  {
   "cell_type": "code",
   "execution_count": 48,
   "metadata": {},
   "outputs": [],
   "source": [
    "df = pd.read_csv('data/01-RawDatasets/movingaway.csv')"
   ]
  },
  {
   "cell_type": "code",
   "execution_count": 55,
   "metadata": {},
   "outputs": [],
   "source": []
  },
  {
   "cell_type": "code",
   "execution_count": 63,
   "metadata": {},
   "outputs": [
    {
     "name": "stdout",
     "output_type": "stream",
     "text": [
      "macStats_phr\n",
      "macStats_totalBytesSdusDl\n",
      "macStats_totalTbsUl\n",
      "macStats_mcs1Ul\n",
      "macStats_totalPduDl\n",
      "macStats_totalBytesSdusUl\n",
      "macStats_tbsDl\n",
      "macStats_totalPrbUl\n",
      "macStats_macSdusDl_sduLength\n",
      "macStats_macSdusDl_lcid\n",
      "macStats_prbUl\n",
      "macStats_totalPduUl\n",
      "macStats_mcs1Dl\n",
      "macStats_mcs2Dl\n",
      "macStats_prbDl\n",
      "macStats_totalPrbDl\n",
      "macStats_prbRetxDl\n",
      "macStats_totalTbsDl\n"
     ]
    }
   ],
   "source": []
  },
  {
   "cell_type": "code",
   "execution_count": 64,
   "metadata": {},
   "outputs": [
    {
     "data": {
      "text/html": [
       "<div>\n",
       "<style scoped>\n",
       "    .dataframe tbody tr th:only-of-type {\n",
       "        vertical-align: middle;\n",
       "    }\n",
       "\n",
       "    .dataframe tbody tr th {\n",
       "        vertical-align: top;\n",
       "    }\n",
       "\n",
       "    .dataframe thead th {\n",
       "        text-align: right;\n",
       "    }\n",
       "</style>\n",
       "<table border=\"1\" class=\"dataframe\">\n",
       "  <thead>\n",
       "    <tr style=\"text-align: right;\">\n",
       "      <th></th>\n",
       "      <th>rsrp</th>\n",
       "      <th>rsrq</th>\n",
       "      <th>wbcqi</th>\n",
       "      <th>macStats_phr</th>\n",
       "      <th>dlCqiReport_sfnSn</th>\n",
       "      <th>macStats_totalBytesSdusDl</th>\n",
       "      <th>macStats_totalTbsUl</th>\n",
       "      <th>macStats_mcs1Ul</th>\n",
       "      <th>macStats_totalPduDl</th>\n",
       "      <th>macStats_totalBytesSdusUl</th>\n",
       "      <th>...</th>\n",
       "      <th>pdcpStats_pktTxBytes</th>\n",
       "      <th>pdcpStats_pktRxAiat</th>\n",
       "      <th>pdcpStats_pktRxBytes</th>\n",
       "      <th>pdcpStats_pktTx</th>\n",
       "      <th>pdcpStats_pktTxW</th>\n",
       "      <th>pdcpStats_pktTxAiatW</th>\n",
       "      <th>pdcpStats_sfn</th>\n",
       "      <th>pdcpStats_pktTxAiat</th>\n",
       "      <th>rnti</th>\n",
       "      <th>quality</th>\n",
       "    </tr>\n",
       "  </thead>\n",
       "  <tbody>\n",
       "    <tr>\n",
       "      <th>0</th>\n",
       "      <td>-107</td>\n",
       "      <td>-8</td>\n",
       "      <td>8</td>\n",
       "      <td>26</td>\n",
       "      <td>11909</td>\n",
       "      <td>8647</td>\n",
       "      <td>538416</td>\n",
       "      <td>10</td>\n",
       "      <td>664</td>\n",
       "      <td>537426</td>\n",
       "      <td>...</td>\n",
       "      <td>6963</td>\n",
       "      <td>232298</td>\n",
       "      <td>23909</td>\n",
       "      <td>19</td>\n",
       "      <td>0</td>\n",
       "      <td>0</td>\n",
       "      <td>232722</td>\n",
       "      <td>176673</td>\n",
       "      <td>6163</td>\n",
       "      <td>0</td>\n",
       "    </tr>\n",
       "    <tr>\n",
       "      <th>1</th>\n",
       "      <td>-107</td>\n",
       "      <td>-8</td>\n",
       "      <td>8</td>\n",
       "      <td>26</td>\n",
       "      <td>11829</td>\n",
       "      <td>8647</td>\n",
       "      <td>538290</td>\n",
       "      <td>10</td>\n",
       "      <td>664</td>\n",
       "      <td>537300</td>\n",
       "      <td>...</td>\n",
       "      <td>6963</td>\n",
       "      <td>232298</td>\n",
       "      <td>23909</td>\n",
       "      <td>19</td>\n",
       "      <td>0</td>\n",
       "      <td>0</td>\n",
       "      <td>232672</td>\n",
       "      <td>176673</td>\n",
       "      <td>6163</td>\n",
       "      <td>0</td>\n",
       "    </tr>\n",
       "    <tr>\n",
       "      <th>2</th>\n",
       "      <td>-107</td>\n",
       "      <td>-8</td>\n",
       "      <td>8</td>\n",
       "      <td>26</td>\n",
       "      <td>11749</td>\n",
       "      <td>8645</td>\n",
       "      <td>538164</td>\n",
       "      <td>10</td>\n",
       "      <td>663</td>\n",
       "      <td>537174</td>\n",
       "      <td>...</td>\n",
       "      <td>6963</td>\n",
       "      <td>232298</td>\n",
       "      <td>23909</td>\n",
       "      <td>19</td>\n",
       "      <td>0</td>\n",
       "      <td>0</td>\n",
       "      <td>232622</td>\n",
       "      <td>176673</td>\n",
       "      <td>6163</td>\n",
       "      <td>0</td>\n",
       "    </tr>\n",
       "    <tr>\n",
       "      <th>3</th>\n",
       "      <td>-107</td>\n",
       "      <td>-8</td>\n",
       "      <td>7</td>\n",
       "      <td>26</td>\n",
       "      <td>11589</td>\n",
       "      <td>8645</td>\n",
       "      <td>537975</td>\n",
       "      <td>10</td>\n",
       "      <td>663</td>\n",
       "      <td>536922</td>\n",
       "      <td>...</td>\n",
       "      <td>6963</td>\n",
       "      <td>232298</td>\n",
       "      <td>23909</td>\n",
       "      <td>19</td>\n",
       "      <td>0</td>\n",
       "      <td>0</td>\n",
       "      <td>232522</td>\n",
       "      <td>176673</td>\n",
       "      <td>6163</td>\n",
       "      <td>0</td>\n",
       "    </tr>\n",
       "    <tr>\n",
       "      <th>4</th>\n",
       "      <td>-107</td>\n",
       "      <td>-8</td>\n",
       "      <td>8</td>\n",
       "      <td>26</td>\n",
       "      <td>11349</td>\n",
       "      <td>8643</td>\n",
       "      <td>537597</td>\n",
       "      <td>10</td>\n",
       "      <td>662</td>\n",
       "      <td>536607</td>\n",
       "      <td>...</td>\n",
       "      <td>6963</td>\n",
       "      <td>232298</td>\n",
       "      <td>23909</td>\n",
       "      <td>19</td>\n",
       "      <td>0</td>\n",
       "      <td>0</td>\n",
       "      <td>232372</td>\n",
       "      <td>176673</td>\n",
       "      <td>6163</td>\n",
       "      <td>0</td>\n",
       "    </tr>\n",
       "    <tr>\n",
       "      <th>...</th>\n",
       "      <td>...</td>\n",
       "      <td>...</td>\n",
       "      <td>...</td>\n",
       "      <td>...</td>\n",
       "      <td>...</td>\n",
       "      <td>...</td>\n",
       "      <td>...</td>\n",
       "      <td>...</td>\n",
       "      <td>...</td>\n",
       "      <td>...</td>\n",
       "      <td>...</td>\n",
       "      <td>...</td>\n",
       "      <td>...</td>\n",
       "      <td>...</td>\n",
       "      <td>...</td>\n",
       "      <td>...</td>\n",
       "      <td>...</td>\n",
       "      <td>...</td>\n",
       "      <td>...</td>\n",
       "      <td>...</td>\n",
       "      <td>...</td>\n",
       "    </tr>\n",
       "    <tr>\n",
       "      <th>26077</th>\n",
       "      <td>-105</td>\n",
       "      <td>-7</td>\n",
       "      <td>12</td>\n",
       "      <td>15</td>\n",
       "      <td>11187</td>\n",
       "      <td>3344</td>\n",
       "      <td>6567</td>\n",
       "      <td>10</td>\n",
       "      <td>32</td>\n",
       "      <td>1572755</td>\n",
       "      <td>...</td>\n",
       "      <td>23595</td>\n",
       "      <td>887446</td>\n",
       "      <td>56733</td>\n",
       "      <td>65</td>\n",
       "      <td>0</td>\n",
       "      <td>0</td>\n",
       "      <td>887630</td>\n",
       "      <td>887139</td>\n",
       "      <td>20457</td>\n",
       "      <td>0</td>\n",
       "    </tr>\n",
       "    <tr>\n",
       "      <th>26078</th>\n",
       "      <td>-105</td>\n",
       "      <td>-7</td>\n",
       "      <td>12</td>\n",
       "      <td>16</td>\n",
       "      <td>11107</td>\n",
       "      <td>3344</td>\n",
       "      <td>6504</td>\n",
       "      <td>10</td>\n",
       "      <td>32</td>\n",
       "      <td>1572629</td>\n",
       "      <td>...</td>\n",
       "      <td>23595</td>\n",
       "      <td>887446</td>\n",
       "      <td>56733</td>\n",
       "      <td>65</td>\n",
       "      <td>0</td>\n",
       "      <td>0</td>\n",
       "      <td>887580</td>\n",
       "      <td>887139</td>\n",
       "      <td>20457</td>\n",
       "      <td>0</td>\n",
       "    </tr>\n",
       "    <tr>\n",
       "      <th>26079</th>\n",
       "      <td>-105</td>\n",
       "      <td>-7</td>\n",
       "      <td>12</td>\n",
       "      <td>17</td>\n",
       "      <td>11027</td>\n",
       "      <td>3344</td>\n",
       "      <td>6378</td>\n",
       "      <td>10</td>\n",
       "      <td>32</td>\n",
       "      <td>1572503</td>\n",
       "      <td>...</td>\n",
       "      <td>23595</td>\n",
       "      <td>887446</td>\n",
       "      <td>56733</td>\n",
       "      <td>65</td>\n",
       "      <td>0</td>\n",
       "      <td>0</td>\n",
       "      <td>887530</td>\n",
       "      <td>887139</td>\n",
       "      <td>20457</td>\n",
       "      <td>0</td>\n",
       "    </tr>\n",
       "    <tr>\n",
       "      <th>26080</th>\n",
       "      <td>-105</td>\n",
       "      <td>-7</td>\n",
       "      <td>12</td>\n",
       "      <td>17</td>\n",
       "      <td>10947</td>\n",
       "      <td>3344</td>\n",
       "      <td>6252</td>\n",
       "      <td>10</td>\n",
       "      <td>32</td>\n",
       "      <td>1572440</td>\n",
       "      <td>...</td>\n",
       "      <td>23595</td>\n",
       "      <td>887446</td>\n",
       "      <td>56733</td>\n",
       "      <td>65</td>\n",
       "      <td>0</td>\n",
       "      <td>0</td>\n",
       "      <td>887480</td>\n",
       "      <td>887139</td>\n",
       "      <td>20457</td>\n",
       "      <td>0</td>\n",
       "    </tr>\n",
       "    <tr>\n",
       "      <th>26081</th>\n",
       "      <td>-105</td>\n",
       "      <td>-7</td>\n",
       "      <td>12</td>\n",
       "      <td>17</td>\n",
       "      <td>10867</td>\n",
       "      <td>3344</td>\n",
       "      <td>6029</td>\n",
       "      <td>19</td>\n",
       "      <td>32</td>\n",
       "      <td>1572217</td>\n",
       "      <td>...</td>\n",
       "      <td>23595</td>\n",
       "      <td>887416</td>\n",
       "      <td>56613</td>\n",
       "      <td>65</td>\n",
       "      <td>0</td>\n",
       "      <td>0</td>\n",
       "      <td>887430</td>\n",
       "      <td>887139</td>\n",
       "      <td>20457</td>\n",
       "      <td>0</td>\n",
       "    </tr>\n",
       "  </tbody>\n",
       "</table>\n",
       "<p>26082 rows × 41 columns</p>\n",
       "</div>"
      ],
      "text/plain": [
       "       rsrp  rsrq  wbcqi  macStats_phr  dlCqiReport_sfnSn  \\\n",
       "0      -107    -8      8            26              11909   \n",
       "1      -107    -8      8            26              11829   \n",
       "2      -107    -8      8            26              11749   \n",
       "3      -107    -8      7            26              11589   \n",
       "4      -107    -8      8            26              11349   \n",
       "...     ...   ...    ...           ...                ...   \n",
       "26077  -105    -7     12            15              11187   \n",
       "26078  -105    -7     12            16              11107   \n",
       "26079  -105    -7     12            17              11027   \n",
       "26080  -105    -7     12            17              10947   \n",
       "26081  -105    -7     12            17              10867   \n",
       "\n",
       "       macStats_totalBytesSdusDl  macStats_totalTbsUl  macStats_mcs1Ul  \\\n",
       "0                           8647               538416               10   \n",
       "1                           8647               538290               10   \n",
       "2                           8645               538164               10   \n",
       "3                           8645               537975               10   \n",
       "4                           8643               537597               10   \n",
       "...                          ...                  ...              ...   \n",
       "26077                       3344                 6567               10   \n",
       "26078                       3344                 6504               10   \n",
       "26079                       3344                 6378               10   \n",
       "26080                       3344                 6252               10   \n",
       "26081                       3344                 6029               19   \n",
       "\n",
       "       macStats_totalPduDl  macStats_totalBytesSdusUl  ...  \\\n",
       "0                      664                     537426  ...   \n",
       "1                      664                     537300  ...   \n",
       "2                      663                     537174  ...   \n",
       "3                      663                     536922  ...   \n",
       "4                      662                     536607  ...   \n",
       "...                    ...                        ...  ...   \n",
       "26077                   32                    1572755  ...   \n",
       "26078                   32                    1572629  ...   \n",
       "26079                   32                    1572503  ...   \n",
       "26080                   32                    1572440  ...   \n",
       "26081                   32                    1572217  ...   \n",
       "\n",
       "       pdcpStats_pktTxBytes  pdcpStats_pktRxAiat  pdcpStats_pktRxBytes  \\\n",
       "0                      6963               232298                 23909   \n",
       "1                      6963               232298                 23909   \n",
       "2                      6963               232298                 23909   \n",
       "3                      6963               232298                 23909   \n",
       "4                      6963               232298                 23909   \n",
       "...                     ...                  ...                   ...   \n",
       "26077                 23595               887446                 56733   \n",
       "26078                 23595               887446                 56733   \n",
       "26079                 23595               887446                 56733   \n",
       "26080                 23595               887446                 56733   \n",
       "26081                 23595               887416                 56613   \n",
       "\n",
       "       pdcpStats_pktTx  pdcpStats_pktTxW  pdcpStats_pktTxAiatW  pdcpStats_sfn  \\\n",
       "0                   19                 0                     0         232722   \n",
       "1                   19                 0                     0         232672   \n",
       "2                   19                 0                     0         232622   \n",
       "3                   19                 0                     0         232522   \n",
       "4                   19                 0                     0         232372   \n",
       "...                ...               ...                   ...            ...   \n",
       "26077               65                 0                     0         887630   \n",
       "26078               65                 0                     0         887580   \n",
       "26079               65                 0                     0         887530   \n",
       "26080               65                 0                     0         887480   \n",
       "26081               65                 0                     0         887430   \n",
       "\n",
       "       pdcpStats_pktTxAiat   rnti  quality  \n",
       "0                   176673   6163        0  \n",
       "1                   176673   6163        0  \n",
       "2                   176673   6163        0  \n",
       "3                   176673   6163        0  \n",
       "4                   176673   6163        0  \n",
       "...                    ...    ...      ...  \n",
       "26077               887139  20457        0  \n",
       "26078               887139  20457        0  \n",
       "26079               887139  20457        0  \n",
       "26080               887139  20457        0  \n",
       "26081               887139  20457        0  \n",
       "\n",
       "[26082 rows x 41 columns]"
      ]
     },
     "execution_count": 64,
     "metadata": {},
     "output_type": "execute_result"
    }
   ],
   "source": [
    "train_df"
   ]
  },
  {
   "cell_type": "code",
   "execution_count": 56,
   "metadata": {},
   "outputs": [
    {
     "data": {
      "text/plain": [
       "{'agent_id': 2,\n",
       " 'eNBId': 234881024,\n",
       " 'ue_mac_stats': [{'rnti': 32812,\n",
       "   'mac_stats': {'rnti': 32812,\n",
       "    'bsr': [0, 0, 0, 0],\n",
       "    'phr': 4294967295,\n",
       "    'rlcReport': [{'lcId': 1,\n",
       "      'txQueueSize': 0,\n",
       "      'txQueueHolDelay': 0,\n",
       "      'statusPduSize': 0},\n",
       "     {'lcId': 2, 'txQueueSize': 0, 'txQueueHolDelay': 0, 'statusPduSize': 0},\n",
       "     {'lcId': 3, 'txQueueSize': 0, 'txQueueHolDelay': 0, 'statusPduSize': 0}],\n",
       "    'pendingMacCes': 0,\n",
       "    'dlCqiReport': {'sfnSn': 6800,\n",
       "     'csiReport': [{'servCellIndex': 0,\n",
       "       'ri': 0,\n",
       "       'type': 'FLCSIT_P10',\n",
       "       'p10csi': {'wbCqi': 3}}]},\n",
       "    'ulCqiReport': {'sfnSn': 6800,\n",
       "     'cqiMeas': [{'type': 'FLUCT_SRS', 'servCellIndex': 0}],\n",
       "     'pucchDbm': [{'p0PucchDbm': 0, 'servCellIndex': 0}]},\n",
       "    'rrcMeasurements': {'measid': 1, 'pcellRsrp': -127, 'pcellRsrq': -13},\n",
       "    'pdcpStats': {'pktTx': 35,\n",
       "     'pktTxBytes': 12872,\n",
       "     'pktTxSn': 14,\n",
       "     'pktTxW': 0,\n",
       "     'pktTxBytesW': 0,\n",
       "     'pktTxAiat': 609518,\n",
       "     'pktTxAiatW': 0,\n",
       "     'pktRx': 666,\n",
       "     'pktRxBytes': 40372,\n",
       "     'pktRxSn': 154,\n",
       "     'pktRxW': 0,\n",
       "     'pktRxBytesW': 0,\n",
       "     'pktRxAiat': 614301,\n",
       "     'pktRxAiatW': 0,\n",
       "     'pktRxOo': 0,\n",
       "     'sfn': '639127'},\n",
       "    'macStats': {'tbsDl': 7,\n",
       "     'tbsUl': 63,\n",
       "     'prbRetxDl': 3,\n",
       "     'prbRetxUl': 0,\n",
       "     'prbDl': 3,\n",
       "     'prbUl': 0,\n",
       "     'mcs1Dl': 2,\n",
       "     'mcs2Dl': 0,\n",
       "     'mcs1Ul': 10,\n",
       "     'mcs2Ul': 10,\n",
       "     'totalBytesSdusUl': 1437927,\n",
       "     'totalBytesSdusDl': 7747,\n",
       "     'totalPrbDl': 2998,\n",
       "     'totalPrbUl': 27566,\n",
       "     'totalPduDl': 966,\n",
       "     'totalPduUl': 9079,\n",
       "     'totalTbsDl': 12764,\n",
       "     'totalTbsUl': 575460,\n",
       "     'macSdusDl': [{'sduLength': 2, 'lcid': 1}],\n",
       "     'harqRound': 8}},\n",
       "   'harq': ['ACK', 'ACK', 'ACK', 'ACK', 'ACK', 'ACK', 'ACK', 'ACK']}]}"
      ]
     },
     "execution_count": 56,
     "metadata": {},
     "output_type": "execute_result"
    }
   ],
   "source": [
    "json.loads(df.loc[0, \"mac_stats\"][1:-1])"
   ]
  },
  {
   "cell_type": "code",
   "execution_count": null,
   "metadata": {},
   "outputs": [],
   "source": []
  }
 ],
 "metadata": {
  "kernelspec": {
   "display_name": "Python [conda env:slice] *",
   "language": "python",
   "name": "conda-env-slice-py"
  },
  "language_info": {
   "codemirror_mode": {
    "name": "ipython",
    "version": 3
   },
   "file_extension": ".py",
   "mimetype": "text/x-python",
   "name": "python",
   "nbconvert_exporter": "python",
   "pygments_lexer": "ipython3",
   "version": "3.7.8"
  }
 },
 "nbformat": 4,
 "nbformat_minor": 4
}
